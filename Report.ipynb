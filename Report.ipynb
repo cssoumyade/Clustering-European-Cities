{
 "cells": [
  {
   "cell_type": "markdown",
   "metadata": {},
   "source": [
    "<h1 align='center'>Exploring European Cities</h1>   \n",
    "<h4 align='center'>Author: <b>Soumya De</b>\n",
    "<br>\n",
    "Mail Id: soumyagamer@gmail.com</h4>"
   ]
  },
  {
   "cell_type": "markdown",
   "metadata": {},
   "source": [
    "<img src=\"europe abstract.jpg\" alt=\"Europe Map (Shutterstock)\" width=\"1000\" align=\"middle\">"
   ]
  },
  {
   "cell_type": "markdown",
   "metadata": {},
   "source": [
    "<h3>1. Introduction</h3>"
   ]
  },
  {
   "cell_type": "markdown",
   "metadata": {},
   "source": [
    "<h4>1.1 Background</h4>\n",
    "<br>\n",
    "Europe is the continent where people get awstruck by its natural beauty, epic history and dazzling artistic & culinary diversity. Europe's cultural heritage is its biggest single draw: the birthplace of democracy in Athens, the renaissance art of Florence, the graceful canal of Venice and lot more. Despite its population density Europe maintains spectacular natural scenary. Cheers! Salud! Prost! Europe has some best nightlife in the world. Globally famous DJs keep the party going in London, Berlin and Paris, all of which also offer top-class entertainment, especially theatre and live music. After one has ticked off the great museums, panaromic vistas and energetic nightlife comes the fun part, that people like me would enjoy, the magnificient menus: the pizza in Naples, souvlaki in Santorini or even haggis in Scotland. Europe's diversity and global reach is its trump card.\n",
    "<br>\n",
    "<h4>1.2 Problem desciption</h4>\n",
    "<br>\n",
    "The rich diversity and magnificient history of Europe have always facinated me to live there. And I beleive there are lot of people like me out somewhere trying to find out a place, rather I would say a city, to live in Europe. This problem is designed to address these type of people. The problem is to cluster 500 cities in Europe on basis art, food and heritage. And then examine each cluster to find out which group/cluster offers most diverse characteristics so that we could select a city from that cluster as potential place to live in Europe. "
   ]
  },
  {
   "cell_type": "markdown",
   "metadata": {},
   "source": [
    "### 2. Data"
   ]
  },
  {
   "cell_type": "markdown",
   "metadata": {},
   "source": [
    "<h4>2.1 Data requirements & collection</h4>\n",
    "<br>\n",
    "To the address the problem described above, we need a dataset that will contain city-country pairs along with respective latitude & longitude and data about venues across each of these cities in Europe. So to prepare a dataset of these we mainly need data basically from three sources:   \n",
    "1. The name of the cities and respective countries from http://worldpopulationreview.com/continents/cities-in-europe. To obtain this data BeautifulSoup package has been used to directly srape from the site itself. The given site contains name of top 500 cities all over Europe, in terms of population. Along with the city names it also contains the name of the country and population of the corresponding cities. \n",
    "2. The geographical coordinates of each city from OpeCageGeocode api\n",
    "3. The data about 100 venues within a 10 km radius of each city from FourSquare api\n",
    "<br>\n",
    "\n",
    "The data_collection.ipynb script in the repo has been used to obtaion the data and store it in the disk.    \n",
    "https://github.com/soumyagamer/First-Repository/blob/master/Data%20collection.ipynb"
   ]
  },
  {
   "cell_type": "markdown",
   "metadata": {},
   "source": [
    "### 3. Methodology"
   ]
  },
  {
   "cell_type": "markdown",
   "metadata": {},
   "source": [
    "<h4>3.1 Exploratory Data Analysis</h4>\n",
    "<br>\n",
    "The dataset contains information about 43658 venues, across 499 cities in the 36 countries of Europe. Each data in the dataset contains the eight following attribute:\n",
    "1. Venue (Name of the venue)\n",
    "2. Venue category\n",
    "3. Venue latitude\n",
    "4. Venue longitude\n",
    "5. City\n",
    "6. City latitude\n",
    "7. City longitude\n",
    "8. Country"
   ]
  },
  {
   "cell_type": "markdown",
   "metadata": {},
   "source": [
    "To visualize each city, a map of Europe has plotted with cities superimposed on top (as shown below). The names of the cities, countries are not shown in the map intentionally cause it would have made the below image look messy.   \n",
    "<img src=\"map3.JPG\" alt=\"Europe Map with Cities\" width=\"1000\" align=\"middle\">"
   ]
  },
  {
   "cell_type": "markdown",
   "metadata": {},
   "source": [
    "The number of cities in each country of the collected data is shown in the following bar graph.    \n",
    "<img src=\"bar1.JPG\" alt=\"Number of cities in each country\" width=\"1000\" align=\"middle\">\n"
   ]
  },
  {
   "cell_type": "markdown",
   "metadata": {},
   "source": [
    "The bar graph shown above tells that a number of cities in Germany, Spain, The United Kingdom and Russia are highly populated and the number is quite big in Russia. Therefore, the number of venues in each in each country will also produce similar looking bar graph. This is simply because more venues will be retrieved for the country with more number of cities.\n",
    "<img src=\"bar2.JPG\" alt=\"Number of venues in each country\" width=\"1000\" align=\"middle\">"
   ]
  },
  {
   "cell_type": "markdown",
   "metadata": {},
   "source": [
    "There is a total of 561 venue categories found in the dataset.The following section has a wordcloud which shows the venues(venue category) that are popular among the Europeans. The larger the word the more frequent it occurs in the dataset.   \n",
    "<img src=\"wc1.JPG\" alt=\"Wordcloud venues\" width=\"1000\" align=\"middle\">"
   ]
  },
  {
   "cell_type": "markdown",
   "metadata": {},
   "source": [
    "This wordcloud clearly justifies the background section of the introduction. Europe certainly has varieties: coffee shops to parks, bakery to Steakhouse, Movie theater to Historic Sites. It has a whole lot options to explore.\n",
    "\n",
    "This notebook https://github.com/soumyagamer/First-Repository/blob/master/Exploratory%20Data%20Analysis.ipynb has been used to perform Exploratory data analysis."
   ]
  },
  {
   "cell_type": "markdown",
   "metadata": {},
   "source": [
    "<h4>3.2 Feature Engineering</h4>"
   ]
  },
  {
   "cell_type": "markdown",
   "metadata": {},
   "source": [
    "Now to address the problem, that is clustering these cities on the basis of culture, life style we need look out for various common places visited by population in these cities. Therefore, accomplish this task we require 10 most common places in each city as features. Steps that are involved in feature engineering are listed below:\n",
    "1. Create one-hot encoding for each cities using unique venue category as feature set\n",
    "2. Grouping data by city and by taking the mean of the frequency of occurrence of each category\n",
    "3. Create the new dataframe with top 10 venues for each city "
   ]
  },
  {
   "cell_type": "markdown",
   "metadata": {},
   "source": [
    "<h4>3.3 K-Means clustering on the obtained data</h4>"
   ]
  },
  {
   "cell_type": "markdown",
   "metadata": {},
   "source": [
    "After the data has been prepared, we need to cluster the cities into 7 different clusters. Scikit Learn's KMeans has been used for this purpose. When clustering is done, we obtained dataset that contains the cluster labels along with 10 most common venues for each city. The clusters are plotted on a folium map centered on Europe and the results are given in the results section of this report.    "
   ]
  },
  {
   "cell_type": "markdown",
   "metadata": {},
   "source": [
    "The notebook in the link below has been used for feature engineering and clustering    \n",
    "https://github.com/soumyagamer/First-Repository/blob/master/Feature%20Engineering%20and%20Clustering.ipynb "
   ]
  },
  {
   "cell_type": "markdown",
   "metadata": {},
   "source": [
    "<h3>4. Results</h3>"
   ]
  },
  {
   "cell_type": "markdown",
   "metadata": {},
   "source": [
    "So, the KMeans algorithm has resulted in reasonably good clusters. But somehow there are two cities: Kalininskiy,Russia (light blue) and Arad, Romania (light green) that are not included in any of the clusters and formed clusters of their own Cluster 4 and Cluster 5 respectively. The rest of the five clusters are well enough. Cluster 1 (red) and Cluster 3 (blue) are formed mainly by the cities situated in Spain and United Kindom respectively. The most common place in Cluster 3  is a pub or a bar and in Cluster 1 it is a spanish restaurant. The cafes and restaurants offering various cuisines are popular among cities in Cluster 7 (orange). In Cluster 2 (purple) most of the cities belong from Russia and Ukraine. Cafes, parks, restautants and gyms are common places in cities of Cluster 2. Interestingly, Cluster 6 (yellow) is the most diverse among all: parks, theaters, historic sites, restautants, art museums and lot more to offer. Sample data from all the clusters are given below.    "
   ]
  },
  {
   "cell_type": "markdown",
   "metadata": {},
   "source": [
    "<h4>Clustered cities superimposed on a map of Europe</h4>\n",
    "<img src=\"map4.JPG\" alt=\"Clustered Cities\" width=\"1000\" align=\"middle\">"
   ]
  },
  {
   "cell_type": "markdown",
   "metadata": {},
   "source": [
    "<h4>Sample data from all the clusters:</h4>"
   ]
  },
  {
   "cell_type": "markdown",
   "metadata": {},
   "source": [
    "<b>Cluster 1 - Red</b>\n",
    "<img src=\"clus_1.JPG\" alt=\"Cluster 1\" width=\"1000\" align=\"middle\">"
   ]
  },
  {
   "cell_type": "markdown",
   "metadata": {},
   "source": [
    "<b>Cluster 2 - Purple</b>\n",
    "<img src=\"clus_2.JPG\" alt=\"Cluster 2\" width=\"1000\" align=\"middle\">"
   ]
  },
  {
   "cell_type": "markdown",
   "metadata": {},
   "source": [
    "<b>Cluster 3 - Blue</b>\n",
    "<img src=\"clus_3.JPG\" alt=\"Cluster 3\" width=\"1000\" align=\"middle\">"
   ]
  },
  {
   "cell_type": "markdown",
   "metadata": {},
   "source": [
    "<b>Cluster 4 - Light blue</b>\n",
    "<img src=\"clus_4.JPG\" alt=\"Cluster 4\" width=\"1000\" align=\"middle\">"
   ]
  },
  {
   "cell_type": "markdown",
   "metadata": {},
   "source": [
    "<b>Cluster 5 - Light green</b>\n",
    "<img src=\"clus_5.JPG\" alt=\"Cluster 5\" width=\"1000\" align=\"middle\">"
   ]
  },
  {
   "cell_type": "markdown",
   "metadata": {},
   "source": [
    "<b>Cluster 6 - Yellow</b>\n",
    "<img src=\"clus_6.JPG\" alt=\"Cluster 6\" width=\"1000\" align=\"middle\">"
   ]
  },
  {
   "cell_type": "markdown",
   "metadata": {},
   "source": [
    "<b>Cluster 7 - Orange</b>\n",
    "<img src=\"clus_7.JPG\" alt=\"Cluster 7\" width=\"1000\" align=\"middle\">"
   ]
  },
  {
   "cell_type": "markdown",
   "metadata": {},
   "source": [
    "The complete clusters are shown in the given notebook.    \n",
    "https://github.com/soumyagamer/First-Repository/blob/master/Feature%20Engineering%20and%20Clustering.ipynb"
   ]
  },
  {
   "cell_type": "markdown",
   "metadata": {},
   "source": [
    "<h3>5. Discussions</h3>"
   ]
  },
  {
   "cell_type": "markdown",
   "metadata": {},
   "source": [
    "From the obtained results we observed following inferences. The light blue and the light green, the cities of Kalininskiy, Russia and Arad, Romania have formed separate clusters of themselves. But somehow, they both are similar to each other based on the features from 4th most common venue to 10th most common venue. These features are same for the two clusters Cluster 4 and 5. Next, the Cluster 1 (red markers) is comprising of cities msotly situated in Spain and spanish restaurants are famous venues in these cities. Along with spanish restaurants, parks, art museums, plaza are aslo popular. The blue markers belong to Cluster 3.In this cluster most cities are from the United Kingdom. Pubs, bar, coffee shops, parks are most common venues in these cities. Surprisingly Birmingham has indian restaurants as the third most common venue knowing the fact that India is in separate continent. So there must be a considerable population who love indian food. The orange markers denote cities belonging to Cluster 7, people living in these cities have nack for good food. Restaurants of varius cuisines: italian, japanese, meditarranean etc., cafes, parks, gyms are some of the most common places in the cities of Cluster 7. Cluster 2 (purple markers) consists of the European cities where the most common place is a coffee shop. Now comes my favorite cluster, Cluster 6 (yellow markers). Cities like Moscow, London, Berlin, Rome, Paris and many other popular cities that people often come across are in Cluster 6. The cities of Cluster 6 are culturally and socially diverse. Historic sites, restaurants, museums, scenic lookout, yoga studio, opera house are some of the most common sites in these cities."
   ]
  },
  {
   "cell_type": "code",
   "execution_count": null,
   "metadata": {},
   "outputs": [],
   "source": []
  }
 ],
 "metadata": {
  "kernelspec": {
   "display_name": "Python 3",
   "language": "python",
   "name": "python3"
  },
  "language_info": {
   "codemirror_mode": {
    "name": "ipython",
    "version": 3
   },
   "file_extension": ".py",
   "mimetype": "text/x-python",
   "name": "python",
   "nbconvert_exporter": "python",
   "pygments_lexer": "ipython3",
   "version": "3.6.5"
  }
 },
 "nbformat": 4,
 "nbformat_minor": 2
}
