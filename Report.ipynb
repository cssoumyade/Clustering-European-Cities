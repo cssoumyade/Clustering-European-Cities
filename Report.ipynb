{
 "cells": [
  {
   "cell_type": "markdown",
   "metadata": {},
   "source": [
    "<h1 align='center'>Exploring European Cities</h1>   \n",
    "<h4 align='center'>Author: <b>Soumya De</b>\n",
    "<br>\n",
    "Mail Id: soumyagamer@gmail.com</h4>"
   ]
  },
  {
   "cell_type": "markdown",
   "metadata": {},
   "source": [
    "<img src=\"europe abstract.jpg\" alt=\"Europe Map (Shutterstock)\" width=\"1000\" align=\"middle\">"
   ]
  },
  {
   "cell_type": "markdown",
   "metadata": {},
   "source": [
    "<h3>1. Introduction</h3>"
   ]
  },
  {
   "cell_type": "markdown",
   "metadata": {},
   "source": [
    "<h4>1.1 Background</h4>\n",
    "<br>\n",
    "Europe is the continent where people get awstruck by its natural beauty, epic history and dazzling artistic & culinary diversity. Europe's cultural heritage is its biggest single draw: the birthplace of democracy in Athens, the renaissance art of Florence, the graceful canal of Venice and lot more. Despite its population density Europe maintains spectacular natural scenary. Cheers! Salud! Prost! Europe has some best nightlife in the world. Globally famous DJs keep the party going in London, Berlin and Paris, all of which also offer top-class entertainment, especially theatre and live music. After one has ticked off the great museums, panaromic vistas and energetic nightlife comes the fun part, that people like me would enjoy, the magnificient menus: the pizza in Naples, souvlaki in Santorini or even haggis in Scotland. Europe's diversity and global reach is its trump card.\n",
    "<br>\n",
    "<h4>1.2 Problem desciption</h4>\n",
    "<br>\n",
    "The rich diversity and magnificient history of Europe have always facinated me to live there. And I beleive there are lot of people like me out somewhere trying to find out a place, rather I would say a city, to live in Europe. This problem is designed to address these type of people. The problem is to cluster 500 cities in Europe on basis art, food and heritage. And then examine each cluster to find out which group/cluster offers most diverse characteristics so that we could select a city from that cluster as potential place to live in Europe. "
   ]
  },
  {
   "cell_type": "markdown",
   "metadata": {},
   "source": [
    "### 2. Data"
   ]
  },
  {
   "cell_type": "markdown",
   "metadata": {},
   "source": [
    "<h4>2.1 Data requirements & collection</h4>\n",
    "<br>\n",
    "To the address the problem described above, we need a dataset that will contain city-country pairs along with respective latitude & longitude and data about venues across each of these cities in Europe. So to prepare a dataset of these we mainly need data basically from three sources:   \n",
    "1. The name of the cities and respective countries from http://worldpopulationreview.com/continents/cities-in-europe. To obtain this data BeautifulSoup package has been used to directly srape from the site itself. The given site contains name of top 500 cities all over Europe, in terms of population. Along with the city names it also contains the name of the country and population of the corresponding cities. \n",
    "2. The geographical coordinates of each city from OpeCageGeocode api\n",
    "3. The data about nearby venues of each city from FourSquare api\n",
    "<br>\n",
    "\n",
    "The data_collection.ipynb script in the repo has been used to obtaion the data and store it in the disk.    \n",
    "https://github.com/soumyagamer/First-Repository/blob/master/data_collection.ipynb"
   ]
  },
  {
   "cell_type": "markdown",
   "metadata": {},
   "source": [
    "### 3. Methodology"
   ]
  },
  {
   "cell_type": "markdown",
   "metadata": {},
   "source": [
    "<h4>3.1 Exploratory Data Analysis</h4>\n",
    "<br>\n",
    "The dataset contains information about 43658 venues, across 499 cities in the 36 countries of Europe. Each data in the dataset contains the eight following attribute:\n",
    "1. Venue (Name of the venue)\n",
    "2. Venue category\n",
    "3. Venue latitude\n",
    "4. Venue longitude\n",
    "5. City\n",
    "6. City latitude\n",
    "7. City longitude\n",
    "8. Country"
   ]
  },
  {
   "cell_type": "markdown",
   "metadata": {},
   "source": [
    "To visualize each city, a map of Europe has plotted with cities superimposed on top (as shown below). The names of the cities, countries are not shown in the map intentionally cause it would have made the below image look messy.   \n",
    "<img src=\"map3.JPG\" alt=\"Europe Map with Cities\" width=\"1000\" align=\"middle\">"
   ]
  },
  {
   "cell_type": "markdown",
   "metadata": {},
   "source": [
    "The number of cities in each country of the collected data is shown in the following bar graph.    \n",
    "<img src=\"bar1.JPG\" alt=\"Number of cities in each country\" width=\"1000\" align=\"middle\">\n"
   ]
  },
  {
   "cell_type": "markdown",
   "metadata": {},
   "source": [
    "The bar graph shown above tells that a number of cities in Germany, Spain, The United Kingdom and Russia are highly populated and the number is quite big in Russia. Therefore, the number of venues in each in each country will also produce similar looking bar graph. This is simply because more venues will be retrieved for the country with more number of cities.\n",
    "<img src=\"bar2.JPG\" alt=\"Number of venues in each country\" width=\"1000\" align=\"middle\">"
   ]
  },
  {
   "cell_type": "markdown",
   "metadata": {},
   "source": [
    "The following section has a wordcloud which shows the venues that are popular among the Europeans. The larger the word the more frequent it occurs in the dataset.   \n",
    "<img src=\"wc1.JPG\" alt=\"Wordcloud venues\" width=\"1000\" align=\"middle\">"
   ]
  },
  {
   "cell_type": "markdown",
   "metadata": {},
   "source": [
    "This wordcloud clearly justifies the background section of the introduction. Europe certainly has varieties: coffee shops to parks, bakery to Steakhouse, Movie theater to Historic Sites. It has a whole lot options to explore.\n",
    "\n",
    "This notebook https://github.com/soumyagamer/First-Repository/blob/master/Exploratory%20Data%20Analysis.ipynb has been used to perform Exploratory data analysis."
   ]
  },
  {
   "cell_type": "markdown",
   "metadata": {},
   "source": [
    "<h4>3.2 Feature Engineering</h4>"
   ]
  },
  {
   "cell_type": "code",
   "execution_count": null,
   "metadata": {},
   "outputs": [],
   "source": []
  }
 ],
 "metadata": {
  "kernelspec": {
   "display_name": "Python 3",
   "language": "python",
   "name": "python3"
  },
  "language_info": {
   "codemirror_mode": {
    "name": "ipython",
    "version": 3
   },
   "file_extension": ".py",
   "mimetype": "text/x-python",
   "name": "python",
   "nbconvert_exporter": "python",
   "pygments_lexer": "ipython3",
   "version": "3.6.5"
  }
 },
 "nbformat": 4,
 "nbformat_minor": 2
}
