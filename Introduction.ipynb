{
 "cells": [
  {
   "cell_type": "markdown",
   "metadata": {},
   "source": [
    "<center><h1>Exploring European Cities</h1></center>   \n",
    "<center>Author: Soumya De </center>\n",
    "<center>Mail Id: soumyagamer@gmail.com</center>"
   ]
  },
  {
   "cell_type": "markdown",
   "metadata": {},
   "source": [
    "<img src=\"europe abstract.jpg\" alt=\"Europe Map (Shutterstock)\" width=\"1000\" align=\"middle\">"
   ]
  },
  {
   "cell_type": "markdown",
   "metadata": {},
   "source": [
    "<h3>1. Introduction</h3>"
   ]
  },
  {
   "cell_type": "markdown",
   "metadata": {},
   "source": [
    "<h4>1.1 Background</h4>\n",
    "<br>\n",
    "Europe is the continent where people get awstruck by its natural beauty, epic history and dazzling artistic & culinary diversity. Europe's cultural heritage is its biggest single draw: the birthplace of democracy in Athens, the renaissance art of Florence, the graceful canal of Venice and lot more. Despite its population density Europe maintains spectacular natural scenary. Cheers! Salud! Prost! Europe has some best nightlife in the world. Globally famous DJs keep the party going in London, Berlin and Paris, all of which also offer top-class entertainment, especially theatre and live music. After one has ticked off the great museums, panaromic vistas and energetic nightlife comes the fun part, that people like me would enjoy, the magnificient menus: the pizza in Naples, souvlaki in Santorini or even haggis in Scotland. Europe's diversity and global reach is its trump card.\n",
    "<br>\n",
    "<h4>1.2 Problem desciption</h4>\n",
    "<br>\n",
    "The rich diversity and magnificient history of Europe have always facinated me to live there. And I beleive there are lot of people like me out somewhere trying to find out a place, rather I would say a city, to live in Europe. This problem is designed to address these type of people. The problem is to cluster 500 cities in Europe on basis art, food and heritage. And then examine each cluster to find out which group/cluster offers most diverse characteristics so that we could select a city from that cluster as potential place to live in Europe. "
   ]
  },
  {
   "cell_type": "markdown",
   "metadata": {},
   "source": [
    "### 2. Data"
   ]
  },
  {
   "cell_type": "markdown",
   "metadata": {},
   "source": [
    "<h4>2.1 Data requirements</h4>\n",
    "<br>\n",
    "To the address the problem described above, we basically need data from three sources:   \n",
    "1. The name of the cities and respective countries from http://worldpopulationreview.com/continents/cities-in-europe\n",
    "2. The geographical coordinates of each city from OpeCageGeocode api\n",
    "3. The nearby venues of of each city "
   ]
  },
  {
   "cell_type": "code",
   "execution_count": null,
   "metadata": {},
   "outputs": [],
   "source": []
  }
 ],
 "metadata": {
  "kernelspec": {
   "display_name": "Python 3",
   "language": "python",
   "name": "python3"
  },
  "language_info": {
   "codemirror_mode": {
    "name": "ipython",
    "version": 3
   },
   "file_extension": ".py",
   "mimetype": "text/x-python",
   "name": "python",
   "nbconvert_exporter": "python",
   "pygments_lexer": "ipython3",
   "version": "3.6.5"
  }
 },
 "nbformat": 4,
 "nbformat_minor": 2
}
