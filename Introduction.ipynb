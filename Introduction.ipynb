{
 "cells": [
  {
   "cell_type": "markdown",
   "metadata": {},
   "source": [
    "<h1 align = 'center'>Exploring European Cities</h1>   \n",
    "<h4 align = 'center'>Author: **Soumya De**<br>\n",
    "Mail Id: soumyagamer@gmail.com</h4>"
   ]
  },
  {
   "cell_type": "markdown",
   "metadata": {},
   "source": [
    "<img src=\"europe abstract.jpg\" alt=\"Europe Map (Shutterstock)\" width=\"1000\" align=\"middle\">"
   ]
  },
  {
   "cell_type": "markdown",
   "metadata": {},
   "source": [
    "<h3>1. Introduction</h3>"
   ]
  },
  {
   "cell_type": "markdown",
   "metadata": {},
   "source": [
    "<h4>1.1 Background</h4>\n",
    "<br>\n",
    "Europe is the continent where people get awstruck by its natural beauty, epic history and dazzling artistic & culinary diversity. Europe's cultural heritage is its biggest single draw: the birthplace of democracy in Athens, the renaissance art of Florence, the graceful canal of Venice and lot more. Despite its population density Europe maintains spectacular natural scenary. Cheers! Salud! Prost! Europe has some best nightlife in the world. Globally famous DJs keep the party going in London, Berlin and Paris, all of which also offer top-class entertainment, especially theatre and live music. After one has ticked off the great museums, panaromic vistas and energetic nightlife comes the fun part, that people like me would enjoy, the magnificient menus: the pizza in Naples, souvlaki in Santorini or even haggis in Scotland. Europe's diversity and global reach is its trump card.\n",
    "<br>\n",
    "<h4>1.2 Problem desciption</h4>\n",
    "<br>\n",
    "The rich diversity and magnificient history of Europe have always facinated me to live there. And I beleive there are lot of people like me out somewhere trying to find out a place, rather I would say a city, to live in Europe. This problem is designed to address these type of people. The problem is to cluster 500 cities in Europe on basis art, food and heritage. And then examine each cluster to find out which group/cluster offers most diverse characteristics so that we could select a city from that cluster as potential place to live in Europe. "
   ]
  },
  {
   "cell_type": "markdown",
   "metadata": {},
   "source": [
    "### 2. Data"
   ]
  },
  {
   "cell_type": "markdown",
   "metadata": {},
   "source": [
    "<h4>2.1 Data requirements & collection</h4>\n",
    "<br>\n",
    "To the address the problem described above, we need a dataset that will contain city-country pairs along with respective latitude & longitude and data about venues across each of these cities in Europe. So to prepare a dataset of these we mainly need data basically from three sources:   \n",
    "1. The name of the cities and respective countries from http://worldpopulationreview.com/continents/cities-in-europe. To obtain this data BeautifulSoup has been used to directly srape from the site itself \n",
    "2. The geographical coordinates of each city from OpeCageGeocode api\n",
    "3. The data about nearby venues of each city from FourSquare api\n",
    "<br>\n",
    "\n",
    "The data_collection.ipynb script in the repo has been used to obtaion the data and store it in the disk."
   ]
  },
  {
   "cell_type": "markdown",
   "metadata": {},
   "source": [
    "#### 2.2 Sample data"
   ]
  },
  {
   "cell_type": "code",
   "execution_count": 2,
   "metadata": {},
   "outputs": [
    {
     "name": "stdout",
     "output_type": "stream",
     "text": [
      "(43658, 8)\n"
     ]
    },
    {
     "data": {
      "text/html": [
       "<div>\n",
       "<style scoped>\n",
       "    .dataframe tbody tr th:only-of-type {\n",
       "        vertical-align: middle;\n",
       "    }\n",
       "\n",
       "    .dataframe tbody tr th {\n",
       "        vertical-align: top;\n",
       "    }\n",
       "\n",
       "    .dataframe thead th {\n",
       "        text-align: right;\n",
       "    }\n",
       "</style>\n",
       "<table border=\"1\" class=\"dataframe\">\n",
       "  <thead>\n",
       "    <tr style=\"text-align: right;\">\n",
       "      <th></th>\n",
       "      <th>City</th>\n",
       "      <th>City Latitude</th>\n",
       "      <th>City Longitude</th>\n",
       "      <th>Country</th>\n",
       "      <th>Venue</th>\n",
       "      <th>Venue Category</th>\n",
       "      <th>Venue Latitude</th>\n",
       "      <th>Venue Longitude</th>\n",
       "    </tr>\n",
       "  </thead>\n",
       "  <tbody>\n",
       "    <tr>\n",
       "      <th>8369</th>\n",
       "      <td>Duesseldorf</td>\n",
       "      <td>51.225402</td>\n",
       "      <td>6.776314</td>\n",
       "      <td>Germany</td>\n",
       "      <td>Ständehauspark</td>\n",
       "      <td>Park</td>\n",
       "      <td>51.217036</td>\n",
       "      <td>6.774813</td>\n",
       "    </tr>\n",
       "    <tr>\n",
       "      <th>21533</th>\n",
       "      <td>Yoshkar-Ola</td>\n",
       "      <td>56.632825</td>\n",
       "      <td>47.897246</td>\n",
       "      <td>Russia</td>\n",
       "      <td>Eurospar</td>\n",
       "      <td>Grocery Store</td>\n",
       "      <td>56.641702</td>\n",
       "      <td>47.834449</td>\n",
       "    </tr>\n",
       "    <tr>\n",
       "      <th>28587</th>\n",
       "      <td>Sector 1</td>\n",
       "      <td>44.487945</td>\n",
       "      <td>26.050155</td>\n",
       "      <td>Romania</td>\n",
       "      <td>Grand VIP Studios</td>\n",
       "      <td>Multiplex</td>\n",
       "      <td>44.506666</td>\n",
       "      <td>26.089566</td>\n",
       "    </tr>\n",
       "    <tr>\n",
       "      <th>40997</th>\n",
       "      <td>Basel</td>\n",
       "      <td>47.558108</td>\n",
       "      <td>7.587826</td>\n",
       "      <td>Switzerland</td>\n",
       "      <td>Flora Buvette</td>\n",
       "      <td>Beer Garden</td>\n",
       "      <td>47.563793</td>\n",
       "      <td>7.587898</td>\n",
       "    </tr>\n",
       "    <tr>\n",
       "      <th>4241</th>\n",
       "      <td>Krasnoyarsk</td>\n",
       "      <td>56.009097</td>\n",
       "      <td>92.872515</td>\n",
       "      <td>Russia</td>\n",
       "      <td>Vinegret Bufet</td>\n",
       "      <td>Fast Food Restaurant</td>\n",
       "      <td>56.009942</td>\n",
       "      <td>92.876883</td>\n",
       "    </tr>\n",
       "    <tr>\n",
       "      <th>2159</th>\n",
       "      <td>Munich</td>\n",
       "      <td>48.137108</td>\n",
       "      <td>11.575382</td>\n",
       "      <td>Germany</td>\n",
       "      <td>Hoover &amp; Floyd</td>\n",
       "      <td>Café</td>\n",
       "      <td>48.129916</td>\n",
       "      <td>11.570585</td>\n",
       "    </tr>\n",
       "    <tr>\n",
       "      <th>24510</th>\n",
       "      <td>Eimsbuettel</td>\n",
       "      <td>53.572483</td>\n",
       "      <td>9.950100</td>\n",
       "      <td>Germany</td>\n",
       "      <td>BalzundBalz</td>\n",
       "      <td>Café</td>\n",
       "      <td>53.579397</td>\n",
       "      <td>9.976766</td>\n",
       "    </tr>\n",
       "    <tr>\n",
       "      <th>33358</th>\n",
       "      <td>Gliwice</td>\n",
       "      <td>50.294113</td>\n",
       "      <td>18.665731</td>\n",
       "      <td>Poland</td>\n",
       "      <td>Olimpijczyk</td>\n",
       "      <td>Gym / Fitness Center</td>\n",
       "      <td>50.327561</td>\n",
       "      <td>18.649057</td>\n",
       "    </tr>\n",
       "    <tr>\n",
       "      <th>42453</th>\n",
       "      <td>Modena</td>\n",
       "      <td>44.645888</td>\n",
       "      <td>10.925571</td>\n",
       "      <td>Italy</td>\n",
       "      <td>Generi Alimentari Da Panino</td>\n",
       "      <td>Sandwich Place</td>\n",
       "      <td>44.644377</td>\n",
       "      <td>10.921570</td>\n",
       "    </tr>\n",
       "    <tr>\n",
       "      <th>1012</th>\n",
       "      <td>Budapest</td>\n",
       "      <td>47.498382</td>\n",
       "      <td>19.040471</td>\n",
       "      <td>Hungary</td>\n",
       "      <td>Chez Dodo - Artisan Macarons &amp; Café</td>\n",
       "      <td>Dessert Shop</td>\n",
       "      <td>47.500022</td>\n",
       "      <td>19.052267</td>\n",
       "    </tr>\n",
       "  </tbody>\n",
       "</table>\n",
       "</div>"
      ],
      "text/plain": [
       "              City  City Latitude  City Longitude      Country  \\\n",
       "8369   Duesseldorf      51.225402        6.776314      Germany   \n",
       "21533  Yoshkar-Ola      56.632825       47.897246       Russia   \n",
       "28587     Sector 1      44.487945       26.050155      Romania   \n",
       "40997        Basel      47.558108        7.587826  Switzerland   \n",
       "4241   Krasnoyarsk      56.009097       92.872515       Russia   \n",
       "2159        Munich      48.137108       11.575382      Germany   \n",
       "24510  Eimsbuettel      53.572483        9.950100      Germany   \n",
       "33358      Gliwice      50.294113       18.665731       Poland   \n",
       "42453       Modena      44.645888       10.925571        Italy   \n",
       "1012      Budapest      47.498382       19.040471      Hungary   \n",
       "\n",
       "                                     Venue        Venue Category  \\\n",
       "8369                        Ständehauspark                  Park   \n",
       "21533                             Eurospar         Grocery Store   \n",
       "28587                    Grand VIP Studios             Multiplex   \n",
       "40997                        Flora Buvette           Beer Garden   \n",
       "4241                        Vinegret Bufet  Fast Food Restaurant   \n",
       "2159                        Hoover & Floyd                  Café   \n",
       "24510                          BalzundBalz                  Café   \n",
       "33358                          Olimpijczyk  Gym / Fitness Center   \n",
       "42453          Generi Alimentari Da Panino        Sandwich Place   \n",
       "1012   Chez Dodo - Artisan Macarons & Café          Dessert Shop   \n",
       "\n",
       "       Venue Latitude  Venue Longitude  \n",
       "8369        51.217036         6.774813  \n",
       "21533       56.641702        47.834449  \n",
       "28587       44.506666        26.089566  \n",
       "40997       47.563793         7.587898  \n",
       "4241        56.009942        92.876883  \n",
       "2159        48.129916        11.570585  \n",
       "24510       53.579397         9.976766  \n",
       "33358       50.327561        18.649057  \n",
       "42453       44.644377        10.921570  \n",
       "1012        47.500022        19.052267  "
      ]
     },
     "execution_count": 2,
     "metadata": {},
     "output_type": "execute_result"
    }
   ],
   "source": [
    "import pandas as pd\n",
    "df = pd.read_csv('europe_venues.csv', index_col=0)\n",
    "print(df.shape)\n",
    "df.sample(10)"
   ]
  },
  {
   "cell_type": "markdown",
   "metadata": {},
   "source": [
    "The dataset now contains more than 43000 data and each data consists of a venue, its category, geographical coordinates, city, city's geographical coordinates and country."
   ]
  }
 ],
 "metadata": {
  "kernelspec": {
   "display_name": "Python 3",
   "language": "python",
   "name": "python3"
  },
  "language_info": {
   "codemirror_mode": {
    "name": "ipython",
    "version": 3
   },
   "file_extension": ".py",
   "mimetype": "text/x-python",
   "name": "python",
   "nbconvert_exporter": "python",
   "pygments_lexer": "ipython3",
   "version": "3.6.5"
  }
 },
 "nbformat": 4,
 "nbformat_minor": 2
}
