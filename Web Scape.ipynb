{
 "cells": [
  {
   "cell_type": "markdown",
   "metadata": {},
   "source": [
    "<h1> Scraping Postal Codes Of Torronto City </h1>"
   ]
  },
  {
   "cell_type": "markdown",
   "metadata": {},
   "source": [
    "<h4>Importing dependencies</h4>"
   ]
  },
  {
   "cell_type": "code",
   "execution_count": 32,
   "metadata": {},
   "outputs": [],
   "source": [
    "from bs4 import BeautifulSoup\n",
    "import pandas as pd\n",
    "import requests"
   ]
  },
  {
   "cell_type": "markdown",
   "metadata": {},
   "source": [
    "<h4>Requesting source page</h4>"
   ]
  },
  {
   "cell_type": "code",
   "execution_count": 100,
   "metadata": {},
   "outputs": [],
   "source": [
    "source = requests.get(\"https://en.wikipedia.org/wiki/List_of_postal_codes_of_Canada:_M\").text"
   ]
  },
  {
   "cell_type": "markdown",
   "metadata": {},
   "source": [
    "<h4>Using BeautifulSoup for scraping the data</h4>"
   ]
  },
  {
   "cell_type": "code",
   "execution_count": null,
   "metadata": {},
   "outputs": [],
   "source": [
    "soup = BeautifulSoup(source, 'lxml')\n",
    "table = soup.find('tbody')\n",
    "postcode = []\n",
    "borough = []\n",
    "neighborhood = []\n",
    "for row in table.findAll('tr'):\n",
    "    temp = []\n",
    "    for each_data in row.findAll('td'):\n",
    "        temp.append(each_data.text)\n",
    "    if len(temp) and temp[1] != 'Not assigned': #Ignoring cells with a borough that is Not assigned\n",
    "        postcode.append(temp[0])\n",
    "        borough.append(temp[1])\n",
    "        temp_2 = temp[2].rstrip('\\n')\n",
    "        if temp_2 == 'Not assigned': #If a cell has a Not assigned neighborhood\n",
    "            temp2 = temp[1]          #then the neighborhood will be the same as the borough\n",
    "        neighborhood.append(temp_2)\n",
    "data = {'PostalCode': postcode, 'Borough': borough, 'Neighborhood': neighborhood} #The dataframe will consist of three columns:\n",
    "                                                                                  #PostalCode, Borough, and Neighborhood"
   ]
  },
  {
   "cell_type": "markdown",
   "metadata": {},
   "source": [
    "<h4>Storing the scraped data in pandas dataframe</h4>"
   ]
  },
  {
   "cell_type": "code",
   "execution_count": 101,
   "metadata": {},
   "outputs": [],
   "source": [
    "df = pd.DataFrame(data)                                                           \n",
    "df = df.groupby(\"PostalCode\").agg(lambda x:','.join(set(x)))"
   ]
  },
  {
   "cell_type": "markdown",
   "metadata": {},
   "source": [
    "<h4>The number of rows of your dataframe"
   ]
  },
  {
   "cell_type": "code",
   "execution_count": 104,
   "metadata": {},
   "outputs": [
    {
     "data": {
      "text/plain": [
       "(103, 2)"
      ]
     },
     "execution_count": 104,
     "metadata": {},
     "output_type": "execute_result"
    }
   ],
   "source": [
    "df.shape"
   ]
  },
  {
   "cell_type": "markdown",
   "metadata": {},
   "source": [
    "<h4>Displaying any 10 data from the dataframe</h4>"
   ]
  },
  {
   "cell_type": "code",
   "execution_count": 102,
   "metadata": {},
   "outputs": [
    {
     "data": {
      "text/html": [
       "<div>\n",
       "<style scoped>\n",
       "    .dataframe tbody tr th:only-of-type {\n",
       "        vertical-align: middle;\n",
       "    }\n",
       "\n",
       "    .dataframe tbody tr th {\n",
       "        vertical-align: top;\n",
       "    }\n",
       "\n",
       "    .dataframe thead th {\n",
       "        text-align: right;\n",
       "    }\n",
       "</style>\n",
       "<table border=\"1\" class=\"dataframe\">\n",
       "  <thead>\n",
       "    <tr style=\"text-align: right;\">\n",
       "      <th></th>\n",
       "      <th>Borough</th>\n",
       "      <th>Neighborhood</th>\n",
       "    </tr>\n",
       "    <tr>\n",
       "      <th>PostalCode</th>\n",
       "      <th></th>\n",
       "      <th></th>\n",
       "    </tr>\n",
       "  </thead>\n",
       "  <tbody>\n",
       "    <tr>\n",
       "      <th>M5N</th>\n",
       "      <td>Central Toronto</td>\n",
       "      <td>Roselawn</td>\n",
       "    </tr>\n",
       "    <tr>\n",
       "      <th>M3J</th>\n",
       "      <td>North York</td>\n",
       "      <td>Northwood Park,York University</td>\n",
       "    </tr>\n",
       "    <tr>\n",
       "      <th>M5K</th>\n",
       "      <td>Downtown Toronto</td>\n",
       "      <td>Toronto Dominion Centre,Design Exchange</td>\n",
       "    </tr>\n",
       "    <tr>\n",
       "      <th>M9L</th>\n",
       "      <td>North York</td>\n",
       "      <td>Humber Summit</td>\n",
       "    </tr>\n",
       "    <tr>\n",
       "      <th>M5X</th>\n",
       "      <td>Downtown Toronto</td>\n",
       "      <td>First Canadian Place,Underground city</td>\n",
       "    </tr>\n",
       "    <tr>\n",
       "      <th>M2H</th>\n",
       "      <td>North York</td>\n",
       "      <td>Hillcrest Village</td>\n",
       "    </tr>\n",
       "    <tr>\n",
       "      <th>M4V</th>\n",
       "      <td>Central Toronto</td>\n",
       "      <td>South Hill,Deer Park,Forest Hill SE,Rathnelly,...</td>\n",
       "    </tr>\n",
       "    <tr>\n",
       "      <th>M9R</th>\n",
       "      <td>Etobicoke</td>\n",
       "      <td>Martin Grove Gardens,Kingsview Village,St. Phi...</td>\n",
       "    </tr>\n",
       "    <tr>\n",
       "      <th>M7R</th>\n",
       "      <td>Mississauga</td>\n",
       "      <td>Canada Post Gateway Processing Centre</td>\n",
       "    </tr>\n",
       "    <tr>\n",
       "      <th>M4S</th>\n",
       "      <td>Central Toronto</td>\n",
       "      <td>Davisville</td>\n",
       "    </tr>\n",
       "  </tbody>\n",
       "</table>\n",
       "</div>"
      ],
      "text/plain": [
       "                     Borough  \\\n",
       "PostalCode                     \n",
       "M5N          Central Toronto   \n",
       "M3J               North York   \n",
       "M5K         Downtown Toronto   \n",
       "M9L               North York   \n",
       "M5X         Downtown Toronto   \n",
       "M2H               North York   \n",
       "M4V          Central Toronto   \n",
       "M9R                Etobicoke   \n",
       "M7R              Mississauga   \n",
       "M4S          Central Toronto   \n",
       "\n",
       "                                                 Neighborhood  \n",
       "PostalCode                                                     \n",
       "M5N                                                  Roselawn  \n",
       "M3J                            Northwood Park,York University  \n",
       "M5K                   Toronto Dominion Centre,Design Exchange  \n",
       "M9L                                             Humber Summit  \n",
       "M5X                     First Canadian Place,Underground city  \n",
       "M2H                                         Hillcrest Village  \n",
       "M4V         South Hill,Deer Park,Forest Hill SE,Rathnelly,...  \n",
       "M9R         Martin Grove Gardens,Kingsview Village,St. Phi...  \n",
       "M7R                     Canada Post Gateway Processing Centre  \n",
       "M4S                                                Davisville  "
      ]
     },
     "execution_count": 102,
     "metadata": {},
     "output_type": "execute_result"
    }
   ],
   "source": [
    "df.sample(10)"
   ]
  },
  {
   "cell_type": "code",
   "execution_count": null,
   "metadata": {},
   "outputs": [],
   "source": []
  }
 ],
 "metadata": {
  "kernelspec": {
   "display_name": "Python 3",
   "language": "python",
   "name": "python3"
  },
  "language_info": {
   "codemirror_mode": {
    "name": "ipython",
    "version": 3
   },
   "file_extension": ".py",
   "mimetype": "text/x-python",
   "name": "python",
   "nbconvert_exporter": "python",
   "pygments_lexer": "ipython3",
   "version": "3.6.5"
  }
 },
 "nbformat": 4,
 "nbformat_minor": 2
}
