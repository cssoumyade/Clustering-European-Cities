{
 "cells": [
  {
   "cell_type": "markdown",
   "metadata": {},
   "source": [
    "<h1> Scraping Postal Codes Of Torronto City </h1>"
   ]
  },
  {
   "cell_type": "markdown",
   "metadata": {},
   "source": [
    "<h4>Importing dependencies</h4>"
   ]
  },
  {
   "cell_type": "code",
   "execution_count": 106,
   "metadata": {},
   "outputs": [],
   "source": [
    "from bs4 import BeautifulSoup\n",
    "import pandas as pd\n",
    "import requests\n",
    "import geocoder"
   ]
  },
  {
   "cell_type": "markdown",
   "metadata": {},
   "source": [
    "<h4>Requesting source page</h4>"
   ]
  },
  {
   "cell_type": "code",
   "execution_count": 100,
   "metadata": {},
   "outputs": [],
   "source": [
    "source = requests.get(\"https://en.wikipedia.org/wiki/List_of_postal_codes_of_Canada:_M\").text"
   ]
  },
  {
   "cell_type": "markdown",
   "metadata": {},
   "source": [
    "<h4>Using BeautifulSoup for scraping the data and geocoder for obtaining coordinates</h4>"
   ]
  },
  {
   "cell_type": "code",
   "execution_count": 112,
   "metadata": {},
   "outputs": [],
   "source": [
    "soup = BeautifulSoup(source, 'lxml')\n",
    "table = soup.find('tbody')\n",
    "postcode = []\n",
    "borough = []\n",
    "neighborhood = []\n",
    "latitudes = []\n",
    "longitudes = []\n",
    "for row in table.findAll('tr'):\n",
    "    temp = []\n",
    "    for each_data in row.findAll('td'):\n",
    "        temp.append(each_data.text)\n",
    "    if len(temp) and temp[1] != 'Not assigned': #Ignoring cells with a borough that is Not assigned\n",
    "        postcode.append(temp[0])\n",
    "        borough.append(temp[1])\n",
    "        temp_2 = temp[2].rstrip('\\n')\n",
    "        if temp_2 == 'Not assigned': #If a cell has a Not assigned neighborhood\n",
    "            temp2 = temp[1]          #then the neighborhood will be the same as the borough\n",
    "        neighborhood.append(temp_2)\n",
    "        \n",
    "        #lat_lng_coords = None\n",
    "        #while(lat_lng_coords is None):\n",
    "            #g = geocoder.google('{}, Toronto, Ontario'.format(temp[0]))\n",
    "            #lat_lng_coords = g.latlng\n",
    "\n",
    "        #latitudes.append(lat_lng_coords[0])\n",
    "        #longitudes.append(lat_lng_coords[1])\n",
    "data = {'PostalCode': postcode, 'Borough': borough, 'Neighborhood': neighborhood} #The dataframe will consist of three columns:\n",
    "                                                                                  #PostalCode, Borough, and Neighborhood"
   ]
  },
  {
   "cell_type": "markdown",
   "metadata": {},
   "source": [
    "<h4>Storing the scraped data in pandas dataframe</h4>"
   ]
  },
  {
   "cell_type": "code",
   "execution_count": 113,
   "metadata": {},
   "outputs": [],
   "source": [
    "df = pd.DataFrame(data)                                                           \n",
    "df = df.groupby(\"PostalCode\").agg(lambda x:','.join(set(x)))"
   ]
  },
  {
   "cell_type": "markdown",
   "metadata": {},
   "source": [
    "<h4>The number of rows of the dataframe</h4>"
   ]
  },
  {
   "cell_type": "code",
   "execution_count": 104,
   "metadata": {},
   "outputs": [
    {
     "data": {
      "text/plain": [
       "(103, 2)"
      ]
     },
     "execution_count": 104,
     "metadata": {},
     "output_type": "execute_result"
    }
   ],
   "source": [
    "df.shape"
   ]
  },
  {
   "cell_type": "markdown",
   "metadata": {},
   "source": [
    "<h4>Displaying any 10 data from the dataframe</h4>"
   ]
  },
  {
   "cell_type": "code",
   "execution_count": 102,
   "metadata": {},
   "outputs": [
    {
     "data": {
      "text/html": [
       "<div>\n",
       "<style scoped>\n",
       "    .dataframe tbody tr th:only-of-type {\n",
       "        vertical-align: middle;\n",
       "    }\n",
       "\n",
       "    .dataframe tbody tr th {\n",
       "        vertical-align: top;\n",
       "    }\n",
       "\n",
       "    .dataframe thead th {\n",
       "        text-align: right;\n",
       "    }\n",
       "</style>\n",
       "<table border=\"1\" class=\"dataframe\">\n",
       "  <thead>\n",
       "    <tr style=\"text-align: right;\">\n",
       "      <th></th>\n",
       "      <th>Borough</th>\n",
       "      <th>Neighborhood</th>\n",
       "    </tr>\n",
       "    <tr>\n",
       "      <th>PostalCode</th>\n",
       "      <th></th>\n",
       "      <th></th>\n",
       "    </tr>\n",
       "  </thead>\n",
       "  <tbody>\n",
       "    <tr>\n",
       "      <th>M5N</th>\n",
       "      <td>Central Toronto</td>\n",
       "      <td>Roselawn</td>\n",
       "    </tr>\n",
       "    <tr>\n",
       "      <th>M3J</th>\n",
       "      <td>North York</td>\n",
       "      <td>Northwood Park,York University</td>\n",
       "    </tr>\n",
       "    <tr>\n",
       "      <th>M5K</th>\n",
       "      <td>Downtown Toronto</td>\n",
       "      <td>Toronto Dominion Centre,Design Exchange</td>\n",
       "    </tr>\n",
       "    <tr>\n",
       "      <th>M9L</th>\n",
       "      <td>North York</td>\n",
       "      <td>Humber Summit</td>\n",
       "    </tr>\n",
       "    <tr>\n",
       "      <th>M5X</th>\n",
       "      <td>Downtown Toronto</td>\n",
       "      <td>First Canadian Place,Underground city</td>\n",
       "    </tr>\n",
       "    <tr>\n",
       "      <th>M2H</th>\n",
       "      <td>North York</td>\n",
       "      <td>Hillcrest Village</td>\n",
       "    </tr>\n",
       "    <tr>\n",
       "      <th>M4V</th>\n",
       "      <td>Central Toronto</td>\n",
       "      <td>South Hill,Deer Park,Forest Hill SE,Rathnelly,...</td>\n",
       "    </tr>\n",
       "    <tr>\n",
       "      <th>M9R</th>\n",
       "      <td>Etobicoke</td>\n",
       "      <td>Martin Grove Gardens,Kingsview Village,St. Phi...</td>\n",
       "    </tr>\n",
       "    <tr>\n",
       "      <th>M7R</th>\n",
       "      <td>Mississauga</td>\n",
       "      <td>Canada Post Gateway Processing Centre</td>\n",
       "    </tr>\n",
       "    <tr>\n",
       "      <th>M4S</th>\n",
       "      <td>Central Toronto</td>\n",
       "      <td>Davisville</td>\n",
       "    </tr>\n",
       "  </tbody>\n",
       "</table>\n",
       "</div>"
      ],
      "text/plain": [
       "                     Borough  \\\n",
       "PostalCode                     \n",
       "M5N          Central Toronto   \n",
       "M3J               North York   \n",
       "M5K         Downtown Toronto   \n",
       "M9L               North York   \n",
       "M5X         Downtown Toronto   \n",
       "M2H               North York   \n",
       "M4V          Central Toronto   \n",
       "M9R                Etobicoke   \n",
       "M7R              Mississauga   \n",
       "M4S          Central Toronto   \n",
       "\n",
       "                                                 Neighborhood  \n",
       "PostalCode                                                     \n",
       "M5N                                                  Roselawn  \n",
       "M3J                            Northwood Park,York University  \n",
       "M5K                   Toronto Dominion Centre,Design Exchange  \n",
       "M9L                                             Humber Summit  \n",
       "M5X                     First Canadian Place,Underground city  \n",
       "M2H                                         Hillcrest Village  \n",
       "M4V         South Hill,Deer Park,Forest Hill SE,Rathnelly,...  \n",
       "M9R         Martin Grove Gardens,Kingsview Village,St. Phi...  \n",
       "M7R                     Canada Post Gateway Processing Centre  \n",
       "M4S                                                Davisville  "
      ]
     },
     "execution_count": 102,
     "metadata": {},
     "output_type": "execute_result"
    }
   ],
   "source": [
    "df.sample(10)"
   ]
  },
  {
   "cell_type": "markdown",
   "metadata": {},
   "source": [
    "<h4>Get the latitude and the longitude coordinates of each neighborhood using a csv file</h4>   \n",
    "The http://cocl.us/Geospatial_data (csv file) contains geographical coordinates of each postal code of Torronto"
   ]
  },
  {
   "cell_type": "code",
   "execution_count": 117,
   "metadata": {},
   "outputs": [
    {
     "name": "stdout",
     "output_type": "stream",
     "text": [
      "M1B\n",
      "M1C\n",
      "M1E\n",
      "M1G\n",
      "M1H\n",
      "M1J\n",
      "M1K\n",
      "M1L\n",
      "M1M\n",
      "M1N\n",
      "M1P\n",
      "M1R\n",
      "M1S\n",
      "M1T\n",
      "M1V\n",
      "M1W\n",
      "M1X\n",
      "M2H\n",
      "M2J\n",
      "M2K\n",
      "M2L\n",
      "M2M\n",
      "M2N\n",
      "M2P\n",
      "M2R\n",
      "M3A\n",
      "M3B\n",
      "M3C\n",
      "M3H\n",
      "M3J\n",
      "M3K\n",
      "M3L\n",
      "M3M\n",
      "M3N\n",
      "M4A\n",
      "M4B\n",
      "M4C\n",
      "M4E\n",
      "M4G\n",
      "M4H\n",
      "M4J\n",
      "M4K\n",
      "M4L\n",
      "M4M\n",
      "M4N\n",
      "M4P\n",
      "M4R\n",
      "M4S\n",
      "M4T\n",
      "M4V\n",
      "M4W\n",
      "M4X\n",
      "M4Y\n",
      "M5A\n",
      "M5B\n",
      "M5C\n",
      "M5E\n",
      "M5G\n",
      "M5H\n",
      "M5J\n",
      "M5K\n",
      "M5L\n",
      "M5M\n",
      "M5N\n",
      "M5P\n",
      "M5R\n",
      "M5S\n",
      "M5T\n",
      "M5V\n",
      "M5W\n",
      "M5X\n",
      "M6A\n",
      "M6B\n",
      "M6C\n",
      "M6E\n",
      "M6G\n",
      "M6H\n",
      "M6J\n",
      "M6K\n",
      "M6L\n",
      "M6M\n",
      "M6N\n",
      "M6P\n",
      "M6R\n",
      "M6S\n",
      "M7A\n",
      "M7R\n",
      "M7Y\n",
      "M8V\n",
      "M8W\n",
      "M8X\n",
      "M8Y\n",
      "M8Z\n",
      "M9A\n",
      "M9B\n",
      "M9C\n",
      "M9L\n",
      "M9M\n",
      "M9N\n",
      "M9P\n",
      "M9R\n",
      "M9V\n",
      "M9W\n"
     ]
    }
   ],
   "source": [
    "df2 = pd.read_csv('Geospatial_Coordinates.csv')\n",
    "for each_code in df2['Postal Code']:\n",
    "    print(each_code)"
   ]
  },
  {
   "cell_type": "code",
   "execution_count": null,
   "metadata": {},
   "outputs": [],
   "source": []
  }
 ],
 "metadata": {
  "kernelspec": {
   "display_name": "Python 3",
   "language": "python",
   "name": "python3"
  },
  "language_info": {
   "codemirror_mode": {
    "name": "ipython",
    "version": 3
   },
   "file_extension": ".py",
   "mimetype": "text/x-python",
   "name": "python",
   "nbconvert_exporter": "python",
   "pygments_lexer": "ipython3",
   "version": "3.6.5"
  }
 },
 "nbformat": 4,
 "nbformat_minor": 2
}
