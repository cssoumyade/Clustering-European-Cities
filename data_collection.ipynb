{
 "cells": [
  {
   "cell_type": "markdown",
   "metadata": {},
   "source": [
    "# Data Collection"
   ]
  },
  {
   "cell_type": "markdown",
   "metadata": {},
   "source": [
    "### Objectives : \n",
    "1. Collecting city and country names by scaping data using BeautifulSoup from worldpopulationreview.com\n",
    "2. Collecting respective geographical coordinates using OpenCageGeocode api\n",
    "3. Collecting the nearby venues of each city using FourSquare api\n",
    "4. Saving the data in disk for future use"
   ]
  },
  {
   "cell_type": "markdown",
   "metadata": {},
   "source": [
    "#### Importing dependencies"
   ]
  },
  {
   "cell_type": "code",
   "execution_count": 2,
   "metadata": {},
   "outputs": [],
   "source": [
    "from bs4 import BeautifulSoup\n",
    "import pandas as pd\n",
    "import requests\n",
    "from opencage.geocoder import OpenCageGeocode\n",
    "from geopy.exc import GeocoderTimedOut\n",
    "import folium\n",
    "import json\n"
   ]
  },
  {
   "cell_type": "markdown",
   "metadata": {},
   "source": [
    "#### Requesting sorce page for city - country pairs"
   ]
  },
  {
   "cell_type": "code",
   "execution_count": 2,
   "metadata": {},
   "outputs": [],
   "source": [
    "source = requests.get(\"http://worldpopulationreview.com/continents/cities-in-europe/\").text"
   ]
  },
  {
   "cell_type": "markdown",
   "metadata": {},
   "source": [
    "#### Collecting data using BeautifulSoup and OpenCageGeocode"
   ]
  },
  {
   "cell_type": "code",
   "execution_count": 54,
   "metadata": {},
   "outputs": [],
   "source": [
    "geolocator = OpenCageGeocode('ea9636898f12432caccd5d49e4a11ec9')\n",
    "def do_geocode(address):\n",
    "    try:\n",
    "        return geolocator.geocode(address)\n",
    "    except GeocoderTimedOut:\n",
    "        return do_geocode(address)"
   ]
  },
  {
   "cell_type": "code",
   "execution_count": 56,
   "metadata": {},
   "outputs": [],
   "source": [
    "soup = BeautifulSoup(source, 'lxml')\n",
    "table = soup.find('tbody')\n",
    "data = []\n",
    "for row in table.findAll('tr'):\n",
    "    temp = []\n",
    "    for element in row.findAll('td'):\n",
    "        temp.append(element.text)\n",
    "    location = do_geocode('{}, {}'.format(temp[0], temp[1]))\n",
    "    temp.append(location[0]['geometry']['lat'])\n",
    "    temp.append(location[0]['geometry']['lng'])\n",
    "    data.append(temp)\n",
    "df = pd.DataFrame(data, columns = ['City', 'Country', 'Population', 'Latitude', 'Longitude'])"
   ]
  },
  {
   "cell_type": "markdown",
   "metadata": {},
   "source": [
    "#### Saving it in the disk"
   ]
  },
  {
   "cell_type": "code",
   "execution_count": 59,
   "metadata": {},
   "outputs": [],
   "source": [
    "df.to_csv('europe_city_country.csv')"
   ]
  },
  {
   "cell_type": "code",
   "execution_count": 6,
   "metadata": {},
   "outputs": [],
   "source": [
    "df = pd.read_csv('europe_city_country.csv', index_col=0)"
   ]
  },
  {
   "cell_type": "markdown",
   "metadata": {},
   "source": [
    "#### Data Properties"
   ]
  },
  {
   "cell_type": "code",
   "execution_count": 8,
   "metadata": {},
   "outputs": [
    {
     "name": "stdout",
     "output_type": "stream",
     "text": [
      "<class 'pandas.core.frame.DataFrame'>\n",
      "Int64Index: 500 entries, 0 to 499\n",
      "Data columns (total 5 columns):\n",
      "City          500 non-null object\n",
      "Country       500 non-null object\n",
      "Population    500 non-null object\n",
      "Latitude      500 non-null float64\n",
      "Longitude     500 non-null float64\n",
      "dtypes: float64(2), object(3)\n",
      "memory usage: 23.4+ KB\n"
     ]
    }
   ],
   "source": [
    "df.info()"
   ]
  },
  {
   "cell_type": "code",
   "execution_count": 7,
   "metadata": {},
   "outputs": [
    {
     "data": {
      "text/html": [
       "<div>\n",
       "<style scoped>\n",
       "    .dataframe tbody tr th:only-of-type {\n",
       "        vertical-align: middle;\n",
       "    }\n",
       "\n",
       "    .dataframe tbody tr th {\n",
       "        vertical-align: top;\n",
       "    }\n",
       "\n",
       "    .dataframe thead th {\n",
       "        text-align: right;\n",
       "    }\n",
       "</style>\n",
       "<table border=\"1\" class=\"dataframe\">\n",
       "  <thead>\n",
       "    <tr style=\"text-align: right;\">\n",
       "      <th></th>\n",
       "      <th>City</th>\n",
       "      <th>Country</th>\n",
       "      <th>Population</th>\n",
       "      <th>Latitude</th>\n",
       "      <th>Longitude</th>\n",
       "    </tr>\n",
       "  </thead>\n",
       "  <tbody>\n",
       "    <tr>\n",
       "      <th>0</th>\n",
       "      <td>Moscow</td>\n",
       "      <td>Russia</td>\n",
       "      <td>10,381,222</td>\n",
       "      <td>55.750446</td>\n",
       "      <td>37.617494</td>\n",
       "    </tr>\n",
       "    <tr>\n",
       "      <th>1</th>\n",
       "      <td>London</td>\n",
       "      <td>United Kingdom</td>\n",
       "      <td>7,556,900</td>\n",
       "      <td>51.507322</td>\n",
       "      <td>-0.127647</td>\n",
       "    </tr>\n",
       "    <tr>\n",
       "      <th>2</th>\n",
       "      <td>Saint Petersburg</td>\n",
       "      <td>Russia</td>\n",
       "      <td>5,028,000</td>\n",
       "      <td>59.938732</td>\n",
       "      <td>30.316229</td>\n",
       "    </tr>\n",
       "    <tr>\n",
       "      <th>3</th>\n",
       "      <td>Berlin</td>\n",
       "      <td>Germany</td>\n",
       "      <td>3,426,354</td>\n",
       "      <td>52.517036</td>\n",
       "      <td>13.388860</td>\n",
       "    </tr>\n",
       "    <tr>\n",
       "      <th>4</th>\n",
       "      <td>Madrid</td>\n",
       "      <td>Spain</td>\n",
       "      <td>3,255,944</td>\n",
       "      <td>40.416705</td>\n",
       "      <td>-3.703582</td>\n",
       "    </tr>\n",
       "    <tr>\n",
       "      <th>5</th>\n",
       "      <td>Kyiv</td>\n",
       "      <td>Ukraine</td>\n",
       "      <td>2,797,553</td>\n",
       "      <td>50.450034</td>\n",
       "      <td>30.524136</td>\n",
       "    </tr>\n",
       "    <tr>\n",
       "      <th>6</th>\n",
       "      <td>Rome</td>\n",
       "      <td>Italy</td>\n",
       "      <td>2,318,895</td>\n",
       "      <td>41.894802</td>\n",
       "      <td>12.485338</td>\n",
       "    </tr>\n",
       "    <tr>\n",
       "      <th>7</th>\n",
       "      <td>Paris</td>\n",
       "      <td>France</td>\n",
       "      <td>2,138,551</td>\n",
       "      <td>48.856697</td>\n",
       "      <td>2.351462</td>\n",
       "    </tr>\n",
       "    <tr>\n",
       "      <th>8</th>\n",
       "      <td>Bucharest</td>\n",
       "      <td>Romania</td>\n",
       "      <td>1,877,155</td>\n",
       "      <td>44.436141</td>\n",
       "      <td>26.102720</td>\n",
       "    </tr>\n",
       "    <tr>\n",
       "      <th>9</th>\n",
       "      <td>Minsk</td>\n",
       "      <td>Belarus</td>\n",
       "      <td>1,742,124</td>\n",
       "      <td>53.902334</td>\n",
       "      <td>27.561879</td>\n",
       "    </tr>\n",
       "  </tbody>\n",
       "</table>\n",
       "</div>"
      ],
      "text/plain": [
       "               City         Country  Population   Latitude  Longitude\n",
       "0            Moscow          Russia  10,381,222  55.750446  37.617494\n",
       "1            London  United Kingdom   7,556,900  51.507322  -0.127647\n",
       "2  Saint Petersburg          Russia   5,028,000  59.938732  30.316229\n",
       "3            Berlin         Germany   3,426,354  52.517036  13.388860\n",
       "4            Madrid           Spain   3,255,944  40.416705  -3.703582\n",
       "5              Kyiv         Ukraine   2,797,553  50.450034  30.524136\n",
       "6              Rome           Italy   2,318,895  41.894802  12.485338\n",
       "7             Paris          France   2,138,551  48.856697   2.351462\n",
       "8         Bucharest         Romania   1,877,155  44.436141  26.102720\n",
       "9             Minsk         Belarus   1,742,124  53.902334  27.561879"
      ]
     },
     "execution_count": 7,
     "metadata": {},
     "output_type": "execute_result"
    }
   ],
   "source": [
    "df.head(10)"
   ]
  },
  {
   "cell_type": "code",
   "execution_count": 13,
   "metadata": {},
   "outputs": [
    {
     "data": {
      "text/plain": [
       "Country\n",
       "Albania                     1\n",
       "Austria                     6\n",
       "Belarus                     8\n",
       "Belgium                     5\n",
       "Bosnia And Herzegovina      3\n",
       "Bulgaria                    5\n",
       "Croatia                     2\n",
       "Cyprus                      1\n",
       "Czech Republic              4\n",
       "Denmark                     2\n",
       "Estonia                     1\n",
       "Finland                     5\n",
       "France                     18\n",
       "Germany                    60\n",
       "Greece                      4\n",
       "Hungary                     5\n",
       "Ireland                     3\n",
       "Italy                      19\n",
       "Latvia                      1\n",
       "Lithuania                   3\n",
       "Macedonia                   1\n",
       "Moldova                     2\n",
       "Netherlands                10\n",
       "Norway                      2\n",
       "Poland                     25\n",
       "Portugal                    3\n",
       "Romania                    20\n",
       "Russia                    127\n",
       "Serbia                      3\n",
       "Slovakia                    2\n",
       "Slovenia                    1\n",
       "Spain                      52\n",
       "Sweden                      3\n",
       "Switzerland                 3\n",
       "Ukraine                    34\n",
       "United Kingdom             56\n",
       "Name: City, dtype: int64"
      ]
     },
     "execution_count": 13,
     "metadata": {},
     "output_type": "execute_result"
    }
   ],
   "source": [
    "df.groupby(['Country'])['City'].count()"
   ]
  },
  {
   "cell_type": "markdown",
   "metadata": {},
   "source": [
    "#### Collecting additional data about nearby venues using FourSquare api"
   ]
  },
  {
   "cell_type": "code",
   "execution_count": 138,
   "metadata": {},
   "outputs": [],
   "source": [
    "Creds = pd.read_csv('FourSquareCredentials.csv')\n",
    "CLIENT_ID = 'Creds['CLIENT_ID'][0]' # your Foursquare ID\n",
    "CLIENT_SECRET = Creds['CLIENT_SECRET'][0] # your Foursquare Secret\n",
    "VERSION = Creds['VERSION'][0] # Foursquare API version"
   ]
  },
  {
   "cell_type": "code",
   "execution_count": 84,
   "metadata": {},
   "outputs": [],
   "source": [
    "radius = 10000\n",
    "LIMIT = 100\n",
    "def getNearbyVenues(names, countries, latitudes, longitudes):\n",
    "    \n",
    "    venues_list=[]\n",
    "    for name, country, lat, lng in zip(names, countries, latitudes, longitudes):\n",
    "        print('{}, {}'.format(name, country))\n",
    "            \n",
    "        # create the API request URL\n",
    "        url = 'https://api.foursquare.com/v2/venues/explore?&client_id={}&client_secret={}&v={}&ll={},{}&radius={}&limit={}'.format(\n",
    "            CLIENT_ID, \n",
    "            CLIENT_SECRET, \n",
    "            VERSION, \n",
    "            lat, \n",
    "            lng, \n",
    "            radius, \n",
    "            LIMIT)\n",
    "            \n",
    "        # make the GET request\n",
    "        results = requests.get(url).json()[\"response\"]['groups'][0]['items']\n",
    "        \n",
    "        # return only relevant information for each nearby venue\n",
    "        venues_list.append([(\n",
    "            name,\n",
    "            country,\n",
    "            lat, \n",
    "            lng, \n",
    "            v['venue']['name'], \n",
    "            v['venue']['location']['lat'], \n",
    "            v['venue']['location']['lng'],  \n",
    "            v['venue']['categories'][0]['name']) for v in results])\n",
    "\n",
    "    nearby_venues = pd.DataFrame([item for venue_list in venues_list for item in venue_list])\n",
    "    nearby_venues.columns = ['City',\n",
    "                  'Country',           \n",
    "                  'City Latitude', \n",
    "                  'City Longitude', \n",
    "                  'Venue', \n",
    "                  'Venue Latitude', \n",
    "                  'Venue Longitude', \n",
    "                  'Venue Category']\n",
    "    \n",
    "    return(nearby_venues)"
   ]
  },
  {
   "cell_type": "code",
   "execution_count": 150,
   "metadata": {},
   "outputs": [],
   "source": [
    "europe_venues = pd.read_csv('europe_venues.csv')"
   ]
  },
  {
   "cell_type": "code",
   "execution_count": 155,
   "metadata": {},
   "outputs": [],
   "source": [
    "start = 0"
   ]
  },
  {
   "cell_type": "code",
   "execution_count": 149,
   "metadata": {},
   "outputs": [],
   "source": [
    "parts = list(range(50, df.shape[0] + 1, 50))    "
   ]
  },
  {
   "cell_type": "code",
   "execution_count": 152,
   "metadata": {},
   "outputs": [
    {
     "name": "stdout",
     "output_type": "stream",
     "text": [
      "Torun, Poland\n",
      "Kielce, Poland\n",
      "Jerez de la Frontera, Spain\n",
      "Oradea, Romania\n",
      "Sabadell, Spain\n",
      "Mostoles, Spain\n",
      "Linz, Austria\n",
      "Alcala de Henares, Spain\n",
      "Ivano-Frankivsk, Ukraine\n",
      "Debrecen, Hungary\n",
      "Padova, Italy\n",
      "Erfurt, Germany\n",
      "Vasyl'evsky Ostrov, Russia\n",
      "Tampere, Finland\n",
      "Harburg, Germany\n",
      "Pskov, Russia\n",
      "Favoriten, Austria\n",
      "Nicosia, Cyprus\n",
      "Charleroi, Belgium\n",
      "Severnyy, Russia\n",
      "Tilburg, Netherlands\n",
      "Balakovo, Russia\n",
      "Armavir, Russia\n",
      "Bila Tserkva, Ukraine\n",
      "Dudley, United Kingdom\n",
      "Hagen, Germany\n",
      "Gliwice, Poland\n",
      "Pamplona, Spain\n",
      "Rostock, Germany\n",
      "Fuenlabrada, Spain\n",
      "Aberdeen, United Kingdom\n",
      "Reims, France\n",
      "Engel's, Russia\n",
      "Burgas, Bulgaria\n",
      "Kassel, Germany\n",
      "Severodvinsk, Russia\n",
      "Portsmouth, United Kingdom\n",
      "Newcastle upon Tyne, United Kingdom\n",
      "Klaipeda, Lithuania\n",
      "Zabrze, Poland\n",
      "Zlatoust, Russia\n",
      "Cork, Ireland\n",
      "Vantaa, Finland\n",
      "Syzran', Russia\n",
      "Bytom, Poland\n",
      "Almeria, Spain\n",
      "Praga Poludnie, Poland\n",
      "Sutton, United Kingdom\n",
      "Petropavlovsk-Kamchatsky, Russia\n",
      "Trieste, Italy\n"
     ]
    },
    {
     "name": "stderr",
     "output_type": "stream",
     "text": [
      "C:\\Users\\soumy\\Anaconda3\\lib\\site-packages\\pandas\\core\\frame.py:6201: FutureWarning: Sorting because non-concatenation axis is not aligned. A future version\n",
      "of pandas will change to not sort by default.\n",
      "\n",
      "To accept the future behavior, pass 'sort=True'.\n",
      "\n",
      "To retain the current behavior and silence the warning, pass sort=False\n",
      "\n",
      "  sort=sort)\n"
     ]
    },
    {
     "name": "stdout",
     "output_type": "stream",
     "text": [
      "400\n",
      "Donaustadt, Austria\n",
      "Leganes, Spain\n",
      "Le Havre, France\n",
      "Swindon, United Kingdom\n",
      "Dun Laoghaire, Ireland\n",
      "San Sebastian, Spain\n",
      "Hamm, Germany\n",
      "Mainz, Germany\n",
      "Brescia, Italy\n",
      "Geneve, Switzerland\n",
      "Cergy-Pontoise, France\n",
      "Korolyov, Russia\n",
      "Sants-Montjuic, Spain\n",
      "Santander, Spain\n",
      "Liege, Belgium\n",
      "Kamensk-Ural'skiy, Russia\n",
      "Prato, Italy\n",
      "Saarbruecken, Germany\n",
      "Groningen, Netherlands\n",
      "Taranto, Italy\n",
      "Crawley, United Kingdom\n",
      "Castello de la Plana, Spain\n",
      "Yasenevo, Russia\n",
      "Podolsk, Russia\n",
      "Burgos, Spain\n",
      "Amadora, Portugal\n",
      "Ipswich, United Kingdom\n",
      "Bielsko-Biala, Poland\n",
      "Yuzhno-Sakhalinsk, Russia\n",
      "Almere Stad, Netherlands\n",
      "Split, Croatia\n",
      "Saint-Etienne, France\n",
      "Turku, Finland\n",
      "Wigan, United Kingdom\n",
      "Kramators'k, Ukraine\n",
      "Croydon, United Kingdom\n",
      "Miskolc, Hungary\n",
      "Walsall, United Kingdom\n",
      "Herne, Germany\n",
      "Lyublino, Russia\n",
      "Mansfield, United Kingdom\n",
      "Olsztyn, Poland\n",
      "Bacau, Romania\n",
      "Oxford, United Kingdom\n",
      "Muelheim, Germany\n",
      "Albacete, Spain\n",
      "Reggio Calabria, Italy\n",
      "Arad, Romania\n",
      "Baranovichi, Belarus\n",
      "Toulon, France\n",
      "450\n",
      "Angers, France\n",
      "Horta-Guinardo, Spain\n",
      "Patra, Greece\n",
      "Alcorcon, Spain\n",
      "Berezniki, Russia\n",
      "Volgodonsk, Russia\n",
      "Breda, Netherlands\n",
      "Pitesti, Romania\n",
      "Miass, Russia\n",
      "Abakan, Russia\n",
      "Neukoelln, Germany\n",
      "Getafe, Spain\n",
      "Novocherkassk, Russia\n",
      "Osnabrueck, Germany\n",
      "Nou Barris, Spain\n",
      "Warrington, United Kingdom\n",
      "Szeged, Hungary\n",
      "Basel, Switzerland\n",
      "Zenica, Bosnia And Herzegovina\n",
      "Solingen, Germany\n",
      "Pilsen, Czech Republic\n",
      "Nazran', Russia\n",
      "Slough, United Kingdom\n",
      "Piraeus, Greece\n",
      "Bournemouth, United Kingdom\n",
      "Peterborough, United Kingdom\n",
      "Ludwigshafen am Rhein, Germany\n",
      "Floridsdorf, Austria\n",
      "Leverkusen, Germany\n",
      "Hortaleza, Spain\n",
      "Rubtsovsk, Russia\n",
      "Mytishchi, Russia\n",
      "Salavat, Russia\n",
      "Oldenburg, Germany\n",
      "Bibirevo, Russia\n",
      "Khoroshevo-Mnevniki, Russia\n",
      "Modena, Italy\n",
      "Nijmegen, Netherlands\n",
      "Grenoble, France\n",
      "Cambridge, United Kingdom\n",
      "Rzeszow, Poland\n",
      "Doncaster, United Kingdom\n",
      "Melitopol, Ukraine\n",
      "Gol'yanovo, Russia\n",
      "Admiralteisky, Russia\n",
      "San Blas-Canillejas, Spain\n",
      "Ussuriysk, Russia\n",
      "Tiraspol, Moldova\n",
      "Pecs, Hungary\n",
      "Ruse, Bulgaria\n",
      "500\n"
     ]
    }
   ],
   "source": [
    "for end in parts:\n",
    "    temp = df[start:end]\n",
    "    temp_venues = getNearbyVenues(names=temp['City'],\n",
    "                                   countries=temp['Country'],\n",
    "                                   latitudes=temp['Latitude'],\n",
    "                                   longitudes=temp['Longitude']\n",
    "                                  )\n",
    "    europe_venues = europe_venues.append(temp_venues, ignore_index = True)\n",
    "    start = end\n",
    "    print(start)"
   ]
  },
  {
   "cell_type": "code",
   "execution_count": 160,
   "metadata": {},
   "outputs": [],
   "source": [
    "europe_venues.drop(['Unnamed: 0', 'Unnamed: 0.1', 'Unnamed: 0.1.1'], axis=1, inplace=True)"
   ]
  },
  {
   "cell_type": "markdown",
   "metadata": {},
   "source": [
    "#### Saving it in the disk for future use"
   ]
  },
  {
   "cell_type": "code",
   "execution_count": 162,
   "metadata": {},
   "outputs": [],
   "source": [
    "europe_venues.to_csv('europe_venues.csv')"
   ]
  },
  {
   "cell_type": "code",
   "execution_count": 17,
   "metadata": {},
   "outputs": [],
   "source": [
    "europe_venues = pd.read_csv('europe_venues.csv', index_col=0)"
   ]
  },
  {
   "cell_type": "markdown",
   "metadata": {},
   "source": [
    "#### Data properties"
   ]
  },
  {
   "cell_type": "code",
   "execution_count": 18,
   "metadata": {},
   "outputs": [
    {
     "name": "stdout",
     "output_type": "stream",
     "text": [
      "<class 'pandas.core.frame.DataFrame'>\n",
      "Int64Index: 43658 entries, 0 to 43657\n",
      "Data columns (total 8 columns):\n",
      "City               43658 non-null object\n",
      "City Latitude      43658 non-null float64\n",
      "City Longitude     43658 non-null float64\n",
      "Country            43658 non-null object\n",
      "Venue              43658 non-null object\n",
      "Venue Category     43658 non-null object\n",
      "Venue Latitude     43658 non-null float64\n",
      "Venue Longitude    43658 non-null float64\n",
      "dtypes: float64(4), object(4)\n",
      "memory usage: 3.0+ MB\n"
     ]
    }
   ],
   "source": [
    "europe_venues.info()"
   ]
  },
  {
   "cell_type": "code",
   "execution_count": 19,
   "metadata": {},
   "outputs": [
    {
     "data": {
      "text/html": [
       "<div>\n",
       "<style scoped>\n",
       "    .dataframe tbody tr th:only-of-type {\n",
       "        vertical-align: middle;\n",
       "    }\n",
       "\n",
       "    .dataframe tbody tr th {\n",
       "        vertical-align: top;\n",
       "    }\n",
       "\n",
       "    .dataframe thead th {\n",
       "        text-align: right;\n",
       "    }\n",
       "</style>\n",
       "<table border=\"1\" class=\"dataframe\">\n",
       "  <thead>\n",
       "    <tr style=\"text-align: right;\">\n",
       "      <th></th>\n",
       "      <th>City</th>\n",
       "      <th>City Latitude</th>\n",
       "      <th>City Longitude</th>\n",
       "      <th>Country</th>\n",
       "      <th>Venue</th>\n",
       "      <th>Venue Category</th>\n",
       "      <th>Venue Latitude</th>\n",
       "      <th>Venue Longitude</th>\n",
       "    </tr>\n",
       "  </thead>\n",
       "  <tbody>\n",
       "    <tr>\n",
       "      <th>35636</th>\n",
       "      <td>Swindon</td>\n",
       "      <td>51.561368</td>\n",
       "      <td>-1.785685</td>\n",
       "      <td>United Kingdom</td>\n",
       "      <td>Costa Coffee</td>\n",
       "      <td>Coffee Shop</td>\n",
       "      <td>51.560484</td>\n",
       "      <td>-1.784737</td>\n",
       "    </tr>\n",
       "    <tr>\n",
       "      <th>38836</th>\n",
       "      <td>Lyublino</td>\n",
       "      <td>55.675638</td>\n",
       "      <td>37.761806</td>\n",
       "      <td>Russia</td>\n",
       "      <td>Reserved</td>\n",
       "      <td>Clothing Store</td>\n",
       "      <td>55.654851</td>\n",
       "      <td>37.844804</td>\n",
       "    </tr>\n",
       "    <tr>\n",
       "      <th>5324</th>\n",
       "      <td>Amsterdam</td>\n",
       "      <td>52.374540</td>\n",
       "      <td>4.897975</td>\n",
       "      <td>Netherlands</td>\n",
       "      <td>De Laatste Kruimel</td>\n",
       "      <td>Bakery</td>\n",
       "      <td>52.369220</td>\n",
       "      <td>4.892810</td>\n",
       "    </tr>\n",
       "    <tr>\n",
       "      <th>34728</th>\n",
       "      <td>Vantaa</td>\n",
       "      <td>60.309187</td>\n",
       "      <td>25.036453</td>\n",
       "      <td>Finland</td>\n",
       "      <td>Rönttösrouva</td>\n",
       "      <td>Bakery</td>\n",
       "      <td>60.262762</td>\n",
       "      <td>25.026598</td>\n",
       "    </tr>\n",
       "    <tr>\n",
       "      <th>31873</th>\n",
       "      <td>Ivano-Frankivsk</td>\n",
       "      <td>48.922522</td>\n",
       "      <td>24.710319</td>\n",
       "      <td>Ukraine</td>\n",
       "      <td>Пивний клуб «Десятка» / Beer Club 10 (Пивний к...</td>\n",
       "      <td>Pub</td>\n",
       "      <td>48.919870</td>\n",
       "      <td>24.711959</td>\n",
       "    </tr>\n",
       "    <tr>\n",
       "      <th>16883</th>\n",
       "      <td>Sochi</td>\n",
       "      <td>43.585482</td>\n",
       "      <td>39.723109</td>\n",
       "      <td>Russia</td>\n",
       "      <td>Че? Харчо!</td>\n",
       "      <td>Restaurant</td>\n",
       "      <td>43.577009</td>\n",
       "      <td>39.722460</td>\n",
       "    </tr>\n",
       "    <tr>\n",
       "      <th>41156</th>\n",
       "      <td>Pilsen</td>\n",
       "      <td>49.747741</td>\n",
       "      <td>13.377525</td>\n",
       "      <td>Czech Republic</td>\n",
       "      <td>Supa Supa</td>\n",
       "      <td>Soup Place</td>\n",
       "      <td>49.747166</td>\n",
       "      <td>13.379010</td>\n",
       "    </tr>\n",
       "    <tr>\n",
       "      <th>27997</th>\n",
       "      <td>Ciudad Lineal</td>\n",
       "      <td>40.448621</td>\n",
       "      <td>-3.654835</td>\n",
       "      <td>Spain</td>\n",
       "      <td>Auditorio Nacional de Música</td>\n",
       "      <td>Concert Hall</td>\n",
       "      <td>40.446068</td>\n",
       "      <td>-3.677757</td>\n",
       "    </tr>\n",
       "    <tr>\n",
       "      <th>25457</th>\n",
       "      <td>A Coruna</td>\n",
       "      <td>43.371209</td>\n",
       "      <td>-8.395877</td>\n",
       "      <td>Spain</td>\n",
       "      <td>Jamonería La Leonesa</td>\n",
       "      <td>Spanish Restaurant</td>\n",
       "      <td>43.369916</td>\n",
       "      <td>-8.392296</td>\n",
       "    </tr>\n",
       "    <tr>\n",
       "      <th>40841</th>\n",
       "      <td>Warrington</td>\n",
       "      <td>53.401858</td>\n",
       "      <td>-2.568022</td>\n",
       "      <td>United Kingdom</td>\n",
       "      <td>Haydock Park Racecourse</td>\n",
       "      <td>Racecourse</td>\n",
       "      <td>53.480440</td>\n",
       "      <td>-2.626643</td>\n",
       "    </tr>\n",
       "  </tbody>\n",
       "</table>\n",
       "</div>"
      ],
      "text/plain": [
       "                  City  City Latitude  City Longitude         Country  \\\n",
       "35636          Swindon      51.561368       -1.785685  United Kingdom   \n",
       "38836         Lyublino      55.675638       37.761806          Russia   \n",
       "5324         Amsterdam      52.374540        4.897975     Netherlands   \n",
       "34728           Vantaa      60.309187       25.036453         Finland   \n",
       "31873  Ivano-Frankivsk      48.922522       24.710319         Ukraine   \n",
       "16883            Sochi      43.585482       39.723109          Russia   \n",
       "41156           Pilsen      49.747741       13.377525  Czech Republic   \n",
       "27997    Ciudad Lineal      40.448621       -3.654835           Spain   \n",
       "25457         A Coruna      43.371209       -8.395877           Spain   \n",
       "40841       Warrington      53.401858       -2.568022  United Kingdom   \n",
       "\n",
       "                                                   Venue      Venue Category  \\\n",
       "35636                                       Costa Coffee         Coffee Shop   \n",
       "38836                                           Reserved      Clothing Store   \n",
       "5324                                  De Laatste Kruimel              Bakery   \n",
       "34728                                       Rönttösrouva              Bakery   \n",
       "31873  Пивний клуб «Десятка» / Beer Club 10 (Пивний к...                 Pub   \n",
       "16883                                         Че? Харчо!          Restaurant   \n",
       "41156                                          Supa Supa          Soup Place   \n",
       "27997                       Auditorio Nacional de Música        Concert Hall   \n",
       "25457                               Jamonería La Leonesa  Spanish Restaurant   \n",
       "40841                            Haydock Park Racecourse          Racecourse   \n",
       "\n",
       "       Venue Latitude  Venue Longitude  \n",
       "35636       51.560484        -1.784737  \n",
       "38836       55.654851        37.844804  \n",
       "5324        52.369220         4.892810  \n",
       "34728       60.262762        25.026598  \n",
       "31873       48.919870        24.711959  \n",
       "16883       43.577009        39.722460  \n",
       "41156       49.747166        13.379010  \n",
       "27997       40.446068        -3.677757  \n",
       "25457       43.369916        -8.392296  \n",
       "40841       53.480440        -2.626643  "
      ]
     },
     "execution_count": 19,
     "metadata": {},
     "output_type": "execute_result"
    }
   ],
   "source": [
    "europe_venues.sample(10)"
   ]
  },
  {
   "cell_type": "code",
   "execution_count": 21,
   "metadata": {},
   "outputs": [
    {
     "data": {
      "text/plain": [
       "Country\n",
       "Albania                    100\n",
       "Austria                    600\n",
       "Belarus                    618\n",
       "Belgium                    500\n",
       "Bosnia And Herzegovina     177\n",
       "Bulgaria                   490\n",
       "Croatia                    200\n",
       "Cyprus                     100\n",
       "Czech Republic             400\n",
       "Denmark                    200\n",
       "Estonia                    100\n",
       "Finland                    500\n",
       "France                    1572\n",
       "Germany                   5635\n",
       "Greece                     400\n",
       "Hungary                    485\n",
       "Ireland                    300\n",
       "Italy                     1798\n",
       "Latvia                     100\n",
       "Lithuania                  257\n",
       "Macedonia                  100\n",
       "Moldova                    160\n",
       "Netherlands               1000\n",
       "Norway                     200\n",
       "Poland                    1916\n",
       "Portugal                   300\n",
       "Romania                   1682\n",
       "Russia                    9429\n",
       "Serbia                     279\n",
       "Slovakia                   200\n",
       "Slovenia                   100\n",
       "Spain                     4940\n",
       "Sweden                     300\n",
       "Switzerland                300\n",
       "Ukraine                   2779\n",
       "United Kingdom            5441\n",
       "Name: Venue, dtype: int64"
      ]
     },
     "execution_count": 21,
     "metadata": {},
     "output_type": "execute_result"
    }
   ],
   "source": [
    "europe_venues.groupby(['Country']).count()['Venue']"
   ]
  },
  {
   "cell_type": "code",
   "execution_count": null,
   "metadata": {},
   "outputs": [],
   "source": []
  }
 ],
 "metadata": {
  "kernelspec": {
   "display_name": "Python 3",
   "language": "python",
   "name": "python3"
  },
  "language_info": {
   "codemirror_mode": {
    "name": "ipython",
    "version": 3
   },
   "file_extension": ".py",
   "mimetype": "text/x-python",
   "name": "python",
   "nbconvert_exporter": "python",
   "pygments_lexer": "ipython3",
   "version": "3.6.5"
  }
 },
 "nbformat": 4,
 "nbformat_minor": 2
}
